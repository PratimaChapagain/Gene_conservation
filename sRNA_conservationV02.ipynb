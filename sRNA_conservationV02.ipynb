{
 "cells": [
  {
   "cell_type": "code",
   "execution_count": null,
   "metadata": {},
   "outputs": [],
   "source": [
    "import os, fnmatch\n",
    "import csv\n",
    "allcol=[]\n",
    "listOfFiles = os.listdir('.')  \n",
    "pattern = \"*.csv\"  \n",
    "for entry in listOfFiles:  \n",
    "    if fnmatch.fnmatch(entry, pattern):\n",
    "        with open(entry, newline='') as csvfile:\n",
    "            reader = csv.reader(csvfile)\n",
    "            #print(reader)\n",
    "            #allcol.append((\"Nextfile\"))\n",
    "            scol=[]\n",
    "            for line in reader:\n",
    "                \n",
    "                \n",
    "                #allcol.append[line[0]]\n",
    "                line0=line[0]\n",
    "                #line0.replace(u'\\ufeff', '')\n",
    "                #line0=line0.encode('utf-8')  \n",
    "                #print(line0)\n",
    "                scol.append((line0))\n",
    "            allcol.append(scol)\n",
    "             \n",
    "len(allcol)"
   ]
  },
  {
   "cell_type": "code",
   "execution_count": null,
   "metadata": {},
   "outputs": [],
   "source": [
    "print(len(allcol))\n",
    "#print(scol)\n",
    "print(allcol)"
   ]
  },
  {
   "cell_type": "code",
   "execution_count": null,
   "metadata": {},
   "outputs": [],
   "source": [
    "comFile=open('4.csv','r')\n",
    "a1=[]\n",
    "cf=0\n",
    "for line in comFile:\n",
    "    cf+=1\n",
    "    eachLine=line.rstrip().split(\",\")\n",
    "    fcol=eachLine[0]\n",
    "    a1.append(fcol)\n",
    "    print(\"cf\",cf, fcol)\n",
    "print(\"cf\",cf)\n",
    "\n",
    "count=0\n",
    "for i in a1: \n",
    "    count+=1\n",
    "    #print (i)\n",
    "print(count)"
   ]
  },
  {
   "cell_type": "code",
   "execution_count": null,
   "metadata": {},
   "outputs": [],
   "source": []
  },
  {
   "cell_type": "code",
   "execution_count": null,
   "metadata": {},
   "outputs": [],
   "source": [
    "print(len(a1))"
   ]
  },
  {
   "cell_type": "code",
   "execution_count": null,
   "metadata": {},
   "outputs": [],
   "source": [
    "fmatch=[]\n",
    "fcount=0\n",
    "refC=0\n",
    "valc=0\n",
    "mcount=0\n",
    "for i in a1: \n",
    "    refC+=1\n",
    "    #print(mcount)\n",
    "    if (mcount==67):\n",
    "        valc+=1\n",
    "        print(i)\n",
    "    mcount=0\n",
    "\n",
    "    for j in allcol :\n",
    "        #mcount=0\n",
    "        fcount+=1\n",
    "\n",
    "        kc=0\n",
    "        #print(mcount)\n",
    "        for k in j:\n",
    "\n",
    "            kc+=1\n",
    "\n",
    "\n",
    "            #if kc<2:\n",
    "                #print(\"kc\",k)\n",
    "\n",
    "            if k==i:\n",
    "                #fmatch.append(i)\n",
    "\n",
    "\n",
    "                        #print(\" matched\",k)\n",
    "                #print(match)\n",
    "\n",
    "                mcount+=1\n",
    "                break\n",
    "   \n",
    "        \n",
    "            \n",
    "            \n",
    "\n",
    "        \n",
    "\n",
    "              \n",
    "        \n",
    "    \n",
    "    \n",
    "\n",
    "print(\"valcount\", valc)   "
   ]
  },
  {
   "cell_type": "code",
   "execution_count": null,
   "metadata": {},
   "outputs": [],
   "source": []
  }
 ],
 "metadata": {
  "kernelspec": {
   "display_name": "Python 3",
   "language": "python",
   "name": "python3"
  },
  "language_info": {
   "codemirror_mode": {
    "name": "ipython",
    "version": 3
   },
   "file_extension": ".py",
   "mimetype": "text/x-python",
   "name": "python",
   "nbconvert_exporter": "python",
   "pygments_lexer": "ipython3",
   "version": "3.7.6"
  }
 },
 "nbformat": 4,
 "nbformat_minor": 4
}
